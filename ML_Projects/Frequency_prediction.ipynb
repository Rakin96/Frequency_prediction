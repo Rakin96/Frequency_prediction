{
 "cells": [
  {
   "cell_type": "code",
   "execution_count": 39,
   "metadata": {},
   "outputs": [],
   "source": [
    "import pandas as pd\n",
    "import numpy as np\n",
    "import re\n",
    "import os\n",
    "from tqdm import tqdm"
   ]
  },
  {
   "attachments": {},
   "cell_type": "markdown",
   "metadata": {},
   "source": [
    "# **File Name Convention**\n",
    "## **Gen_X_Gen_Y_pgini_value1pmax_value2**\n",
    "## X-outage Generator\n",
    "## Y-Generator whose pgini is varied,here pgini is the dispatched power"
   ]
  },
  {
   "cell_type": "code",
   "execution_count": 3,
   "metadata": {},
   "outputs": [
    {
     "data": {
      "text/html": [
       "<div>\n",
       "<style scoped>\n",
       "    .dataframe tbody tr th:only-of-type {\n",
       "        vertical-align: middle;\n",
       "    }\n",
       "\n",
       "    .dataframe tbody tr th {\n",
       "        vertical-align: top;\n",
       "    }\n",
       "\n",
       "    .dataframe thead th {\n",
       "        text-align: right;\n",
       "    }\n",
       "</style>\n",
       "<table border=\"1\" class=\"dataframe\">\n",
       "  <thead>\n",
       "    <tr style=\"text-align: right;\">\n",
       "      <th></th>\n",
       "      <th>Time</th>\n",
       "      <th>Frequency</th>\n",
       "      <th>Spinning Reserve</th>\n",
       "      <th>Inertia</th>\n",
       "      <th>Active Power Rating</th>\n",
       "      <th>Dispatched Power</th>\n",
       "      <th>ROCOF</th>\n",
       "      <th>Nadir</th>\n",
       "      <th>Settling Frequency</th>\n",
       "    </tr>\n",
       "  </thead>\n",
       "  <tbody>\n",
       "    <tr>\n",
       "      <th>0</th>\n",
       "      <td>-0.10</td>\n",
       "      <td>50.000000</td>\n",
       "      <td>8391.649633</td>\n",
       "      <td>10.769797</td>\n",
       "      <td>8500.0</td>\n",
       "      <td>800.0</td>\n",
       "      <td>0.360404708256</td>\n",
       "      <td>46.4205017945</td>\n",
       "      <td>48.8687801361</td>\n",
       "    </tr>\n",
       "    <tr>\n",
       "      <th>1</th>\n",
       "      <td>-0.05</td>\n",
       "      <td>49.999345</td>\n",
       "      <td>8394.857276</td>\n",
       "      <td>10.769797</td>\n",
       "      <td>595.0</td>\n",
       "      <td>0.0</td>\n",
       "      <td></td>\n",
       "      <td></td>\n",
       "      <td></td>\n",
       "    </tr>\n",
       "  </tbody>\n",
       "</table>\n",
       "</div>"
      ],
      "text/plain": [
       "   Time  Frequency  Spinning Reserve    Inertia Active Power Rating  \\\n",
       "0 -0.10  50.000000       8391.649633  10.769797              8500.0   \n",
       "1 -0.05  49.999345       8394.857276  10.769797               595.0   \n",
       "\n",
       "  Dispatched Power           ROCOF          Nadir Settling Frequency  \n",
       "0            800.0  0.360404708256  46.4205017945      48.8687801361  \n",
       "1              0.0                                                    "
      ]
     },
     "execution_count": 3,
     "metadata": {},
     "output_type": "execute_result"
    }
   ],
   "source": [
    "df = pd.read_csv(r\"/home/rakin/New_data/Gen_1_Gen_1pgini_800pmax_8500.csv\")\n",
    "df.head(2)"
   ]
  },
  {
   "attachments": {},
   "cell_type": "markdown",
   "metadata": {},
   "source": [
    "## **Target**\n",
    "1. Input Features ---> dipatched power of all generator (before disturbance), Reserve Size, disturbance size\n",
    "2. Output------------> Nadir, ROCOF, Settling Frequency"
   ]
  },
  {
   "cell_type": "code",
   "execution_count": 56,
   "metadata": {},
   "outputs": [],
   "source": [
    "def read_data(df,gen_num):\n",
    "    # time = df['Time']\n",
    "    # frequency = df['Frequency']\n",
    "    # inertia = df['inertia']\n",
    "    Pmax = float(df['Active Power Rating'][gen_num-1])\n",
    "    P_dispatched = df['Dispatched Power'][0:10]\n",
    "    disturbance = float(P_dispatched[gen_num-1])\n",
    "    reserve_size = Pmax - disturbance\n",
    "    ROCOF = float(df['ROCOF'][0])\n",
    "    Nadir = float(df['Nadir'][0])\n",
    "    Settling_frequency = float(df['Settling Frequency'][0])\n",
    "\n",
    "    return    P_dispatched.astype(float), reserve_size, disturbance,ROCOF, Settling_frequency, Nadir# add ROCOF, Settling Frequency, Nadir\n",
    "\n",
    "    "
   ]
  },
  {
   "cell_type": "code",
   "execution_count": 89,
   "metadata": {},
   "outputs": [
    {
     "data": {
      "text/plain": [
       "0    800.0\n",
       "1      0.0\n",
       "2    650.0\n",
       "3    632.0\n",
       "4    254.0\n",
       "5    650.0\n",
       "6    560.0\n",
       "7    540.0\n",
       "8    830.0\n",
       "9    250.0\n",
       "Name: Dispatched Power, dtype: float64"
      ]
     },
     "execution_count": 89,
     "metadata": {},
     "output_type": "execute_result"
    }
   ],
   "source": [
    "filename = '/home/rakin/New_data/Gen_1_Gen_1pgini_800pmax_8500.csv'\n",
    "# array = re.split(\"_\",filename)\n",
    "# print(array[2])\n",
    "pow = pd.read_csv(filename)\n",
    "P_dispatched, reserve_size, disturbance,ROCOF, Settling_frequency, Nadir = read_data(pow,1)\n",
    "P_dispatched[0:10]"
   ]
  },
  {
   "cell_type": "code",
   "execution_count": 52,
   "metadata": {},
   "outputs": [],
   "source": [
    "columns =  [\"gen_{}_dispatched\".format(i+1) for i in range(10)]\n",
    "columns.extend(['Reserve Size', 'Disturbance Size','ROCOF', 'Settling Frequency', 'Nadir'])"
   ]
  },
  {
   "cell_type": "code",
   "execution_count": 99,
   "metadata": {},
   "outputs": [],
   "source": [
    "final_dataframe = pd.DataFrame(columns=columns)\n",
    "base_dir = '/home/rakin/New_data/'\n",
    "def pre_processing(base_dir, final_dataframe):\n",
    "    files = os.listdir(base_dir)\n",
    "    i = 0\n",
    "    for file in tqdm(files):\n",
    "        gen_num = int(re.split(\"_\",file)[1])\n",
    "        df = pd.read_csv(base_dir+file)\n",
    "        # temp1 = []\n",
    "        P_dispatched, reserve_size, disturbance,ROCOF, Settling_frequency, Nadir = read_data(df,gen_num)\n",
    "        # for j in range(10):\n",
    "        #     final_dataframe.iloc[i,j]=P_dispatched[j]\n",
    "        P_dispatched = list(P_dispatched)\n",
    "        temp2 = [reserve_size, disturbance,ROCOF, Settling_frequency, Nadir]\n",
    "        P_dispatched.extend(temp2)\n",
    "        final_dataframe.loc[i,:]= P_dispatched\n",
    "        i = i+1\n"
   ]
  },
  {
   "cell_type": "code",
   "execution_count": 100,
   "metadata": {},
   "outputs": [
    {
     "name": "stderr",
     "output_type": "stream",
     "text": [
      "100%|██████████| 1995/1995 [00:19<00:00, 100.40it/s]\n"
     ]
    }
   ],
   "source": [
    "pre_processing(base_dir, final_dataframe)"
   ]
  },
  {
   "cell_type": "code",
   "execution_count": 105,
   "metadata": {},
   "outputs": [
    {
     "data": {
      "text/plain": [
       "dtype('O')"
      ]
     },
     "execution_count": 105,
     "metadata": {},
     "output_type": "execute_result"
    }
   ],
   "source": []
  },
  {
   "cell_type": "code",
   "execution_count": null,
   "metadata": {},
   "outputs": [],
   "source": []
  }
 ],
 "metadata": {
  "kernelspec": {
   "display_name": "Python 3",
   "language": "python",
   "name": "python3"
  },
  "language_info": {
   "codemirror_mode": {
    "name": "ipython",
    "version": 3
   },
   "file_extension": ".py",
   "mimetype": "text/x-python",
   "name": "python",
   "nbconvert_exporter": "python",
   "pygments_lexer": "ipython3",
   "version": "3.10.6"
  },
  "orig_nbformat": 4,
  "vscode": {
   "interpreter": {
    "hash": "916dbcbb3f70747c44a77c7bcd40155683ae19c65e1c03b4aa3499c5328201f1"
   }
  }
 },
 "nbformat": 4,
 "nbformat_minor": 2
}
